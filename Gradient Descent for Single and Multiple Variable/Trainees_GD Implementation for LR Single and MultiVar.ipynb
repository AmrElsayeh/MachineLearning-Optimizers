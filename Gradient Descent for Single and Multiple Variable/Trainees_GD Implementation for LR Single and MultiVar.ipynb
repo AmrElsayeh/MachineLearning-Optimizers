{
 "cells": [
  {
   "cell_type": "markdown",
   "metadata": {},
   "source": [
    "## Practical Work 1"
   ]
  },
  {
   "cell_type": "markdown",
   "metadata": {},
   "source": [
    "For this practical work, the trainees will develop a Python program that is able to implement the gradient descent in order to achieve the linear regression (Single and Multivariables) of a set of datapoints."
   ]
  },
  {
   "cell_type": "markdown",
   "metadata": {},
   "source": [
    "#### Import numpy, matplotlib.pyplot and any library you will need"
   ]
  },
  {
   "cell_type": "code",
   "execution_count": 229,
   "metadata": {},
   "outputs": [],
   "source": [
    "import pandas as pd \n",
    "import numpy as np\n",
    "import matplotlib.pyplot as plt"
   ]
  },
  {
   "cell_type": "markdown",
   "metadata": {},
   "source": [
    "#### Read RegData csv file into numpy array "
   ]
  },
  {
   "cell_type": "code",
   "execution_count": 230,
   "metadata": {},
   "outputs": [
    {
     "data": {
      "text/html": [
       "<div>\n",
       "<style scoped>\n",
       "    .dataframe tbody tr th:only-of-type {\n",
       "        vertical-align: middle;\n",
       "    }\n",
       "\n",
       "    .dataframe tbody tr th {\n",
       "        vertical-align: top;\n",
       "    }\n",
       "\n",
       "    .dataframe thead th {\n",
       "        text-align: right;\n",
       "    }\n",
       "</style>\n",
       "<table border=\"1\" class=\"dataframe\">\n",
       "  <thead>\n",
       "    <tr style=\"text-align: right;\">\n",
       "      <th></th>\n",
       "      <th>0</th>\n",
       "      <th>1</th>\n",
       "    </tr>\n",
       "  </thead>\n",
       "  <tbody>\n",
       "    <tr>\n",
       "      <th>0</th>\n",
       "      <td>2.9</td>\n",
       "      <td>4.0</td>\n",
       "    </tr>\n",
       "    <tr>\n",
       "      <th>1</th>\n",
       "      <td>6.7</td>\n",
       "      <td>7.4</td>\n",
       "    </tr>\n",
       "    <tr>\n",
       "      <th>2</th>\n",
       "      <td>4.9</td>\n",
       "      <td>5.0</td>\n",
       "    </tr>\n",
       "    <tr>\n",
       "      <th>3</th>\n",
       "      <td>7.9</td>\n",
       "      <td>7.2</td>\n",
       "    </tr>\n",
       "    <tr>\n",
       "      <th>4</th>\n",
       "      <td>9.8</td>\n",
       "      <td>7.9</td>\n",
       "    </tr>\n",
       "  </tbody>\n",
       "</table>\n",
       "</div>"
      ],
      "text/plain": [
       "     0    1\n",
       "0  2.9  4.0\n",
       "1  6.7  7.4\n",
       "2  4.9  5.0\n",
       "3  7.9  7.2\n",
       "4  9.8  7.9"
      ]
     },
     "execution_count": 230,
     "metadata": {},
     "output_type": "execute_result"
    }
   ],
   "source": [
    "pd.read_csv('RegData.csv',header=None).head()"
   ]
  },
  {
   "cell_type": "code",
   "execution_count": 231,
   "metadata": {},
   "outputs": [],
   "source": [
    "data = np.genfromtxt('RegData.csv',delimiter=',')"
   ]
  },
  {
   "cell_type": "code",
   "execution_count": 232,
   "metadata": {},
   "outputs": [
    {
     "data": {
      "text/plain": [
       "array([[2.9000001 , 4.        ],\n",
       "       [6.69999981, 7.4000001 ],\n",
       "       [4.9000001 , 5.        ],\n",
       "       [7.9000001 , 7.19999981],\n",
       "       [9.80000019, 7.9000001 ],\n",
       "       [6.9000001 , 6.0999999 ],\n",
       "       [6.0999999 , 6.        ],\n",
       "       [6.19999981, 5.80000019],\n",
       "       [6.        , 5.19999981],\n",
       "       [5.0999999 , 4.19999981],\n",
       "       [4.69999981, 4.        ],\n",
       "       [4.4000001 , 4.4000001 ],\n",
       "       [5.80000019, 5.19999981]])"
      ]
     },
     "execution_count": 232,
     "metadata": {},
     "output_type": "execute_result"
    }
   ],
   "source": [
    "data"
   ]
  },
  {
   "cell_type": "code",
   "execution_count": 233,
   "metadata": {},
   "outputs": [],
   "source": [
    "m = len(data)"
   ]
  },
  {
   "cell_type": "markdown",
   "metadata": {},
   "source": [
    "#### Define variables X and y. \n",
    "#### Assign first column data to X and second column to y\n",
    "<b>Note:</b> X is the independent variable (input to LR model) and y is the dependent variable (output)"
   ]
  },
  {
   "cell_type": "code",
   "execution_count": 234,
   "metadata": {},
   "outputs": [],
   "source": [
    "X = data[:,0]\n",
    "y = data[:,1]"
   ]
  },
  {
   "cell_type": "markdown",
   "metadata": {},
   "source": [
    "#### Explore your data"
   ]
  },
  {
   "cell_type": "code",
   "execution_count": 235,
   "metadata": {},
   "outputs": [
    {
     "data": {
      "text/plain": [
       "array([2.9000001 , 6.69999981, 4.9000001 , 7.9000001 , 9.80000019,\n",
       "       6.9000001 , 6.0999999 , 6.19999981, 6.        , 5.0999999 ,\n",
       "       4.69999981, 4.4000001 , 5.80000019])"
      ]
     },
     "execution_count": 235,
     "metadata": {},
     "output_type": "execute_result"
    }
   ],
   "source": [
    "X"
   ]
  },
  {
   "cell_type": "code",
   "execution_count": 236,
   "metadata": {
    "scrolled": true
   },
   "outputs": [
    {
     "data": {
      "text/plain": [
       "array([4.        , 7.4000001 , 5.        , 7.19999981, 7.9000001 ,\n",
       "       6.0999999 , 6.        , 5.80000019, 5.19999981, 4.19999981,\n",
       "       4.        , 4.4000001 , 5.19999981])"
      ]
     },
     "execution_count": 236,
     "metadata": {},
     "output_type": "execute_result"
    }
   ],
   "source": [
    "y"
   ]
  },
  {
   "cell_type": "markdown",
   "metadata": {},
   "source": [
    "#### Plot the original data (scatter plot of X,y)"
   ]
  },
  {
   "cell_type": "code",
   "execution_count": 237,
   "metadata": {},
   "outputs": [
    {
     "data": {
      "image/png": "[encoded data removed]",
      "text/plain": [
       "<Figure size 640x480 with 1 Axes>"
      ]
     },
     "metadata": {},
     "output_type": "display_data"
    }
   ],
   "source": [
    "plt.scatter(X,y);"
   ]
  },
  {
   "cell_type": "markdown",
   "metadata": {},
   "source": [
    "## LR Full Implementation"
   ]
  },
  {
   "cell_type": "markdown",
   "metadata": {},
   "source": [
    "### Step1: Initialize parameters (theta_0 & theta_1) with random value or simply zero. Also choose the Learning rate."
   ]
  },
  {
   "cell_type": "code",
   "execution_count": 240,
   "metadata": {},
   "outputs": [],
   "source": [
    "theta_0 , theta_1 ,alpha= 0, 0, 0.0001"
   ]
  },
  {
   "cell_type": "markdown",
   "metadata": {
    "tags": []
   },
   "source": [
    "### Step2: Use (theta_0 & theta_1) to predict the output h(x)= theta_0 + theta_1 * x."
   ]
  },
  {
   "cell_type": "code",
   "execution_count": 241,
   "metadata": {},
   "outputs": [],
   "source": [
    "# h_theta = []\n",
    "# for i in range(m):\n",
    "#     h = theta_0+theta_1*X[i]\n",
    "#     h_theta.append(h)\n",
    "h_theta = theta_0+theta_1*X\n"
   ]
  },
  {
   "cell_type": "code",
   "execution_count": 242,
   "metadata": {},
   "outputs": [
    {
     "data": {
      "text/plain": [
       "array([0., 0., 0., 0., 0., 0., 0., 0., 0., 0., 0., 0., 0.])"
      ]
     },
     "execution_count": 242,
     "metadata": {},
     "output_type": "execute_result"
    }
   ],
   "source": [
    "h_theta"
   ]
  },
  {
   "cell_type": "markdown",
   "metadata": {},
   "source": [
    "### Step3: Calculate the MSE Cost function 𝑱(theta_0,theta_1 ).\n",
    "<b>Note:</b> You better use either dot product or norm square of the error vector."
   ]
  },
  {
   "cell_type": "code",
   "execution_count": 243,
   "metadata": {},
   "outputs": [
    {
     "name": "stdout",
     "output_type": "stream",
     "text": [
      "Error Vec: [-4.         -7.4000001  -5.         -7.19999981 -7.9000001  -6.0999999\n",
      " -6.         -5.80000019 -5.19999981 -4.19999981 -4.         -4.4000001\n",
      " -5.19999981]\n",
      "\n",
      "J =  16.305384479692314\n"
     ]
    }
   ],
   "source": [
    "error = (h_theta-y)\n",
    "j = np.linalg.norm(error)**2/(2*m)\n",
    "print('Error Vec:',error)\n",
    "print('\\nJ = ',j)"
   ]
  },
  {
   "cell_type": "markdown",
   "metadata": {},
   "source": [
    "### Step4: Calculate the gradient components for theta_0 and theta_1.\n",
    "<b>Note:</b> You can use the error vector calculated in the previous step."
   ]
  },
  {
   "cell_type": "code",
   "execution_count": 244,
   "metadata": {},
   "outputs": [
    {
     "name": "stdout",
     "output_type": "stream",
     "text": [
      "d_theta_0 :  -5.56923073976923\n",
      "d_theta_1 :  -35.043846043215375\n"
     ]
    }
   ],
   "source": [
    "d_theta_0 = error.sum()/m\n",
    "d_theta_1 = (error*X).sum()/m\n",
    "\n",
    "print('d_theta_0 : ',d_theta_0)\n",
    "print('d_theta_1 : ',d_theta_1)"
   ]
  },
  {
   "cell_type": "markdown",
   "metadata": {},
   "source": [
    "### Step5: Update the parameters (simultaneously)."
   ]
  },
  {
   "cell_type": "code",
   "execution_count": 245,
   "metadata": {},
   "outputs": [
    {
     "name": "stdout",
     "output_type": "stream",
     "text": [
      "theta_0_new :  0.0005569230739769231\n",
      "theta_1_new :  0.003504384604321538\n"
     ]
    }
   ],
   "source": [
    "theta_0_new = theta_0 - (alpha*d_theta_0)\n",
    "theta_1_new = theta_1 - (alpha*d_theta_1)\n",
    "\n",
    "print('theta_0_new : ',theta_0_new)\n",
    "print('theta_1_new : ',theta_1_new)"
   ]
  },
  {
   "cell_type": "markdown",
   "metadata": {
    "tags": []
   },
   "source": [
    "### Step6: Repeat from 2 to 5 until converge to the minimum or achieve maximum iterations.\n",
    "#### The objective from this step is to combine all the previous steps and iterate untill you either achieve the maximum number of iterations or reach the minimum."
   ]
  },
  {
   "cell_type": "code",
   "execution_count": 242,
   "metadata": {},
   "outputs": [],
   "source": [
    "# max_itra = 10000\n",
    "# theta_0 , theta_1 ,alpha= 0, 0, 0.01\n",
    "# J = []\n",
    "\n",
    "# for it in range(max_itra):\n",
    "#     h_theta = []\n",
    "#     for i in range(m):\n",
    "#         h = theta_0+theta_1*X[i]\n",
    "#         h_theta.append(h)\n",
    "\n",
    "#     error = (h_theta-y)\n",
    "#     j = np.linalg.norm(error**2,1)/(2*m)\n",
    "#     J.append(j)\n",
    "\n",
    "#     d_theta_0 = error.sum()/m\n",
    "#     d_theta_1 = (error*X).sum()/m\n",
    "\n",
    "#     theta_0 = theta_0 - (alpha*d_theta_0)\n",
    "#     theta_1 = theta_1 - (alpha*d_theta_1)\n",
    "#     if it in range(0,10000,1000):\n",
    "#         print('************************** itration ',it,'*************************')\n",
    "#         print('h(x)\\n',h_theta)\n",
    "#         print('Error Vec:\\n',error)\n",
    "#         print('\\nJ = ',j)\n",
    "#         print('d_theta_0 : ',d_theta_0)\n",
    "#         print('d_theta_1 : ',d_theta_1)\n",
    "#         print('theta_0 : ',theta_0)\n",
    "#         print('theta_1 : ',theta_1)\n",
    "\n",
    "#     if(np.abs(d_theta_0) or np.abs(d_theta_1))<0.001:\n",
    "#         print('this is the last iteration ',it,' with the d_theta_0 : ',d_theta_0,' and d_theta_1 : ',d_theta_1)\n",
    "#         break"
   ]
  },
  {
   "cell_type": "code",
   "execution_count": 249,
   "metadata": {
    "tags": []
   },
   "outputs": [],
   "source": [
    "def LinearReg(X,y,alpha,max_itration,verbose=1):\n",
    "    max_itra = max_itration\n",
    "    theta_0 , theta_1 ,alpha= 0, 0, alpha\n",
    "    J = []\n",
    "    for it in range(max_itra):\n",
    "        h_theta = theta_0+theta_1*X\n",
    "\n",
    "        error = (h_theta-y)\n",
    "        j = np.linalg.norm(error)**2/(2*m)\n",
    "        J.append(j)            \n",
    "\n",
    "        d_theta_0 = error.sum()/m\n",
    "        d_theta_1 = (error*X).sum()/m\n",
    "        grad_vec = np.array([[d_theta_0],[d_theta_1]])\n",
    "        \n",
    "        if(np.linalg.norm(grad_vec,2))<0.03:\n",
    "            print('this is the last iteration ',it,' with the theta_0 : ',theta_0,' and theta_1 : ',theta_1)\n",
    "            break\n",
    "    \n",
    "\n",
    "        theta_0 = theta_0 - (alpha*d_theta_0)\n",
    "        theta_1 = theta_1 - (alpha*d_theta_1)\n",
    "        \n",
    "        if it in range(0,10000,verbose):\n",
    "            print('\\n************************** itration ',it,'*************************\\n')\n",
    "            print('h(x)\\n',h_theta)\n",
    "            print('Error Vec:\\n',error)\n",
    "            print('\\nJ = ',j)\n",
    "            print('d_theta_0 : ',d_theta_0)\n",
    "            print('d_theta_1 : ',d_theta_1)\n",
    "            print('Norm Gradient',np.linalg.norm(grad_vec,2))\n",
    "            print('theta_0 : ',theta_0)\n",
    "            print('theta_1 : ',theta_1)\n",
    "\n",
    "    return theta_0,theta_1,J"
   ]
  },
  {
   "cell_type": "code",
   "execution_count": 250,
   "metadata": {},
   "outputs": [
    {
     "name": "stdout",
     "output_type": "stream",
     "text": [
      "\n",
      "************************** itration  0 *************************\n",
      "\n",
      "h(x)\n",
      " [0. 0. 0. 0. 0. 0. 0. 0. 0. 0. 0. 0. 0.]\n",
      "Error Vec:\n",
      " [-4.         -7.4000001  -5.         -7.19999981 -7.9000001  -6.0999999\n",
      " -6.         -5.80000019 -5.19999981 -4.19999981 -4.         -4.4000001\n",
      " -5.19999981]\n",
      "\n",
      "J =  16.305384479692314\n",
      "d_theta_0 :  -5.56923073976923\n",
      "d_theta_1 :  -35.043846043215375\n",
      "Norm Gradient 35.483622652336\n",
      "theta_0 :  0.0556923073976923\n",
      "theta_1 :  0.35043846043215376\n",
      "\n",
      "************************** itration  500 *************************\n",
      "\n",
      "h(x)\n",
      " [2.94837758 6.13058818 4.62322539 7.13549711 8.72660261 6.2980732\n",
      " 5.62813392 5.71187623 5.54439161 4.79071001 4.45574037 4.20451344\n",
      " 5.37690699]\n",
      "Error Vec:\n",
      " [-1.05162242 -1.26941191 -0.37677461 -0.0645027   0.82660252  0.1980733\n",
      " -0.37186608 -0.08812396  0.3443918   0.5907102   0.45574037 -0.19548666\n",
      "  0.17690718]\n",
      "\n",
      "J =  0.17218252769220857\n",
      "d_theta_0 :  -0.06348945978776051\n",
      "d_theta_1 :  0.00992308790960848\n",
      "Norm Gradient 0.06426024570294979\n",
      "theta_0 :  0.5204830632282781\n",
      "theta_1 :  0.8373246756951424\n",
      "\n",
      "************************** itration  1000 *************************\n",
      "\n",
      "h(x)\n",
      " [3.09505537 6.11793184 4.6860431  7.07252471 8.58396314 6.27703084\n",
      " 5.6406356  5.72018491 5.56108628 4.84514173 4.5269441  4.28829617\n",
      " 5.40198766]\n",
      "Error Vec:\n",
      " [-0.90494463 -1.28206825 -0.3139569  -0.1274751   0.68396304  0.17703094\n",
      " -0.3593644  -0.07981528  0.36108648  0.64514192  0.5269441  -0.11170393\n",
      "  0.20198785]\n",
      "\n",
      "J =  0.15729383730060198\n",
      "d_theta_0 :  -0.04485955131260873\n",
      "d_theta_1 :  0.007011325545192442\n",
      "Norm Gradient 0.045404163133673583\n",
      "theta_0 :  0.788571664841398\n",
      "theta_1 :  0.795423755916281\n",
      "\n",
      "************************** itration  1500 *************************\n",
      "\n",
      "h(x)\n",
      " [3.19869304 6.10898929 4.73042802 7.0280305  8.48317881 6.26216301\n",
      " 5.64946887 5.72605554 5.57288219 4.88360137 4.5772543  4.34749428\n",
      " 5.41970884]\n",
      "Error Vec:\n",
      " [-0.80130696 -1.29101081 -0.26957198 -0.17196931  0.58317871  0.1621631\n",
      " -0.35053113 -0.07394465  0.37288238  0.68360157  0.5772543  -0.05250582\n",
      "  0.21970903]\n",
      "\n",
      "J =  0.14986085521403733\n",
      "d_theta_0 :  -0.03169627447919281\n",
      "d_theta_1 :  0.004953970613634049\n",
      "Norm Gradient 0.032081079169832785\n",
      "theta_0 :  0.977994199236746\n",
      "theta_1 :  0.7658179525727209\n",
      "this is the last iteration  1597  with the theta_0 :  1.0074199659871041  and theta_1 :  0.761218851064416\n"
     ]
    }
   ],
   "source": [
    "theta_0,theta_1,J = LinearReg(X,y,0.01,2000,verbose=500)"
   ]
  },
  {
   "cell_type": "markdown",
   "metadata": {},
   "source": [
    "#### Predict y values using the LR equation\n",
    "##### h(x)= theta_0 + theta_1 * x"
   ]
  },
  {
   "cell_type": "code",
   "execution_count": 251,
   "metadata": {},
   "outputs": [],
   "source": [
    "y_predict = theta_0+theta_1*X"
   ]
  },
  {
   "cell_type": "code",
   "execution_count": 252,
   "metadata": {},
   "outputs": [
    {
     "name": "stdout",
     "output_type": "stream",
     "text": [
      "h(x) = y_predict:\n",
      " [3.21495471 6.10758612 4.73739241 7.02104896 8.46736485 6.25983011\n",
      " 5.65085489 5.7269767  5.57473307 4.88963603 4.58514842 4.35678298\n",
      " 5.42248945] \n",
      "y_actual:\n",
      " [4.         7.4000001  5.         7.19999981 7.9000001  6.0999999\n",
      " 6.         5.80000019 5.19999981 4.19999981 4.         4.4000001\n",
      " 5.19999981]\n"
     ]
    }
   ],
   "source": [
    "print('h(x) = y_predict:\\n',y_predict,'\\ny_actual:\\n',y)"
   ]
  },
  {
   "cell_type": "markdown",
   "metadata": {},
   "source": [
    "#### Plot  LR equation output (fitted line) with the original data (scatter plot of X,y)"
   ]
  },
  {
   "cell_type": "code",
   "execution_count": 253,
   "metadata": {},
   "outputs": [
    {
     "data": {
      "image/png": "[encoded data removed]",
      "text/plain": [
       "<Figure size 640x480 with 1 Axes>"
      ]
     },
     "metadata": {},
     "output_type": "display_data"
    }
   ],
   "source": [
    "plt.scatter(X,y);\n",
    "plt.plot(X,y_predict,color='r');"
   ]
  },
  {
   "cell_type": "markdown",
   "metadata": {},
   "source": [
    "#### Use R2 score to evaluate LR equation output\n",
    "https://en.wikipedia.org/wiki/Coefficient_of_determination"
   ]
  },
  {
   "cell_type": "code",
   "execution_count": 254,
   "metadata": {},
   "outputs": [
    {
     "data": {
      "text/plain": [
       "0.8131924034847119"
      ]
     },
     "execution_count": 254,
     "metadata": {},
     "output_type": "execute_result"
    }
   ],
   "source": [
    "from sklearn.metrics import r2_score\n",
    "r2_score(y,y_predict)"
   ]
  },
  {
   "cell_type": "markdown",
   "metadata": {},
   "source": [
    "## Plot loss function\n",
    "### Repeat your implementaion version and save loss for each iteration (epoch)"
   ]
  },
  {
   "cell_type": "code",
   "execution_count": null,
   "metadata": {},
   "outputs": [],
   "source": []
  },
  {
   "cell_type": "markdown",
   "metadata": {},
   "source": [
    "### Plot loss vs. iterations"
   ]
  },
  {
   "cell_type": "code",
   "execution_count": 255,
   "metadata": {},
   "outputs": [
    {
     "data": {
      "image/png": "[encoded data removed]",
      "text/plain": [
       "<Figure size 640x480 with 1 Axes>"
      ]
     },
     "metadata": {},
     "output_type": "display_data"
    }
   ],
   "source": [
    "plt.plot(J,'-*')\n",
    "plt.xlim(0,20)\n",
    "plt.grid()"
   ]
  },
  {
   "cell_type": "code",
   "execution_count": 11,
   "metadata": {},
   "outputs": [
    {
     "data": {
      "text/plain": [
       "[<matplotlib.lines.Line2D at 0x211f1ca21c0>]"
      ]
     },
     "execution_count": 11,
     "metadata": {},
     "output_type": "execute_result"
    },
    {
     "data": {
      "image/png": "[encoded data removed]",
      "text/plain": [
       "<Figure size 720x504 with 1 Axes>"
      ]
     },
     "metadata": {
      "needs_background": "light"
     },
     "output_type": "display_data"
    }
   ],
   "source": []
  },
  {
   "cell_type": "markdown",
   "metadata": {},
   "source": [
    "## Multivariate LR"
   ]
  },
  {
   "cell_type": "markdown",
   "metadata": {},
   "source": [
    "#### Read MultiVarLR csv file into numpy array.\n",
    "#### The first three columns are x1,x2, and x3.\n",
    "#### The last column is the target label y."
   ]
  },
  {
   "cell_type": "code",
   "execution_count": 256,
   "metadata": {},
   "outputs": [],
   "source": [
    "data2 = np.genfromtxt('MultiVarLR.csv',delimiter=',')"
   ]
  },
  {
   "cell_type": "code",
   "execution_count": 257,
   "metadata": {},
   "outputs": [],
   "source": [
    "m2 = len(data2)"
   ]
  },
  {
   "cell_type": "code",
   "execution_count": 258,
   "metadata": {},
   "outputs": [
    {
     "data": {
      "text/plain": [
       "array([[ 73.,  80.,  75., 152.],\n",
       "       [ 93.,  88.,  93., 185.],\n",
       "       [ 89.,  91.,  90., 180.],\n",
       "       [ 96.,  98., 100., 196.],\n",
       "       [ 73.,  66.,  70., 142.],\n",
       "       [ 53.,  46.,  55., 101.],\n",
       "       [ 69.,  74.,  77., 149.],\n",
       "       [ 47.,  56.,  60., 115.],\n",
       "       [ 87.,  79.,  90., 175.],\n",
       "       [ 79.,  70.,  88., 164.],\n",
       "       [ 69.,  70.,  73., 141.],\n",
       "       [ 70.,  65.,  74., 141.],\n",
       "       [ 93.,  95.,  91., 184.],\n",
       "       [ 79.,  80.,  73., 152.],\n",
       "       [ 70.,  73.,  78., 148.],\n",
       "       [ 93.,  89.,  96., 192.],\n",
       "       [ 78.,  75.,  68., 147.],\n",
       "       [ 81.,  90.,  93., 183.],\n",
       "       [ 88.,  92.,  86., 177.],\n",
       "       [ 78.,  83.,  77., 159.],\n",
       "       [ 82.,  86.,  90., 177.],\n",
       "       [ 86.,  82.,  89., 175.],\n",
       "       [ 78.,  83.,  85., 175.],\n",
       "       [ 76.,  83.,  71., 149.],\n",
       "       [ 96.,  93.,  95., 192.]])"
      ]
     },
     "execution_count": 258,
     "metadata": {},
     "output_type": "execute_result"
    }
   ],
   "source": [
    "data2"
   ]
  },
  {
   "cell_type": "code",
   "execution_count": 259,
   "metadata": {},
   "outputs": [],
   "source": [
    "X2 = data2[:,:3]\n",
    "y2 = data2[:,-1]"
   ]
  },
  {
   "cell_type": "code",
   "execution_count": 260,
   "metadata": {},
   "outputs": [
    {
     "data": {
      "text/plain": [
       "array([[  1.,  73.,  80.,  75.],\n",
       "       [  1.,  93.,  88.,  93.],\n",
       "       [  1.,  89.,  91.,  90.],\n",
       "       [  1.,  96.,  98., 100.],\n",
       "       [  1.,  73.,  66.,  70.],\n",
       "       [  1.,  53.,  46.,  55.],\n",
       "       [  1.,  69.,  74.,  77.],\n",
       "       [  1.,  47.,  56.,  60.],\n",
       "       [  1.,  87.,  79.,  90.],\n",
       "       [  1.,  79.,  70.,  88.],\n",
       "       [  1.,  69.,  70.,  73.],\n",
       "       [  1.,  70.,  65.,  74.],\n",
       "       [  1.,  93.,  95.,  91.],\n",
       "       [  1.,  79.,  80.,  73.],\n",
       "       [  1.,  70.,  73.,  78.],\n",
       "       [  1.,  93.,  89.,  96.],\n",
       "       [  1.,  78.,  75.,  68.],\n",
       "       [  1.,  81.,  90.,  93.],\n",
       "       [  1.,  88.,  92.,  86.],\n",
       "       [  1.,  78.,  83.,  77.],\n",
       "       [  1.,  82.,  86.,  90.],\n",
       "       [  1.,  86.,  82.,  89.],\n",
       "       [  1.,  78.,  83.,  85.],\n",
       "       [  1.,  76.,  83.,  71.],\n",
       "       [  1.,  96.,  93.,  95.]])"
      ]
     },
     "execution_count": 260,
     "metadata": {},
     "output_type": "execute_result"
    }
   ],
   "source": [
    "X2 = np.c_[np.ones(len(X2)),X2]\n",
    "X2"
   ]
  },
  {
   "cell_type": "code",
   "execution_count": 265,
   "metadata": {},
   "outputs": [
    {
     "data": {
      "text/plain": [
       "array([152., 185., 180., 196., 142., 101., 149., 115., 175., 164., 141.,\n",
       "       141., 184., 152., 148., 192., 147., 183., 177., 159., 177., 175.,\n",
       "       175., 149., 192.])"
      ]
     },
     "execution_count": 265,
     "metadata": {},
     "output_type": "execute_result"
    }
   ],
   "source": [
    "y2"
   ]
  },
  {
   "cell_type": "code",
   "execution_count": 270,
   "metadata": {},
   "outputs": [],
   "source": [
    "y2=y2.reshape(-1,1)"
   ]
  },
  {
   "cell_type": "markdown",
   "metadata": {
    "tags": []
   },
   "source": [
    "### Generalize your implementation to work for MultiVariables\n",
    "#### Vectorize your implementation.\n",
    "<b>Notes:</b> \n",
    "- You need to add column that contains ones to the data. This column represent x feature for theta_0.\n",
    "- Use learninig rate = 0.0001."
   ]
  },
  {
   "cell_type": "code",
   "execution_count": 1,
   "metadata": {},
   "outputs": [],
   "source": [
    "def LinearRegMulti(X,y,alpha,max_itration,verbose=1):\n",
    "    max_itra = max_itration\n",
    "    theta =  np.zeros((4,1))\n",
    "    alpha = alpha\n",
    "    J = []\n",
    "    for i in range(max_itra):\n",
    "        h_theta = X@theta\n",
    "\n",
    "        error = (h_theta-y)\n",
    "        j = (error.T@error/(2*m2))[0,0]\n",
    "        J.append(j)\n",
    "        \n",
    "        d_theta = (X.T@error)/m2\n",
    "        grad_vec_norm = np.linalg.norm(d_theta,2)\n",
    "\n",
    "        if grad_vec_norm<0.01:\n",
    "            print('this is the last iteration ',i,' with the theta_0 : ',theta_0,' and theta_1 : ',theta_1)\n",
    "            break\n",
    "        theta = theta - (alpha)*(d_theta)\n",
    "\n",
    "\n",
    "        if i in range(0,10000,verbose):\n",
    "            print('\\n************************** itration ',i,'*************************\\n')\n",
    "            print('h(x)\\n',h_theta)\n",
    "            print('Error Vec:\\n',error)\n",
    "            print('\\nJ = ',j)\n",
    "            print('d_theta : ',d_theta)\n",
    "            print('Norm Gradient',grad_vec_norm)\n",
    "\n",
    "\n",
    "        \n",
    "    return theta,J"
   ]
  },
  {
   "cell_type": "code",
   "execution_count": 2,
   "metadata": {},
   "outputs": [
    {
     "ename": "NameError",
     "evalue": "name 'X2' is not defined",
     "output_type": "error",
     "traceback": [
      "\u001b[0;31m---------------------------------------------------------------------------\u001b[0m",
      "\u001b[0;31mNameError\u001b[0m                                 Traceback (most recent call last)",
      "Cell \u001b[0;32mIn[2], line 1\u001b[0m\n\u001b[0;32m----> 1\u001b[0m theta2 , J2 \u001b[38;5;241m=\u001b[39m LinearRegMulti(\u001b[43mX2\u001b[49m,y2,\u001b[38;5;241m0.0001\u001b[39m,\u001b[38;5;241m10000\u001b[39m,\u001b[38;5;241m2000\u001b[39m)\n",
      "\u001b[0;31mNameError\u001b[0m: name 'X2' is not defined"
     ]
    }
   ],
   "source": [
    "theta2 , J2 = LinearRegMulti(X2,y2,0.0001,10000,2000)"
   ]
  },
  {
   "cell_type": "markdown",
   "metadata": {},
   "source": [
    "#### Predict y values using the LR equation\n",
    "##### X@thetas"
   ]
  },
  {
   "cell_type": "code",
   "execution_count": 275,
   "metadata": {},
   "outputs": [
    {
     "name": "stdout",
     "output_type": "stream",
     "text": [
      "h(x) = y2_predict:\n",
      " [[152.94020804]\n",
      " [184.6036251 ]\n",
      " [181.38810377]\n",
      " [198.87124074]\n",
      " [139.87384042]\n",
      " [105.22708012]\n",
      " [150.58846767]\n",
      " [114.03534969]\n",
      " [174.30956713]\n",
      " [164.4312807 ]\n",
      " [143.95531374]\n",
      " [142.78630359]\n",
      " [186.06197336]\n",
      " [152.82063463]\n",
      " [151.5416465 ]\n",
      " [188.51739606]\n",
      " [144.17320738]\n",
      " [181.39290148]\n",
      " [177.05170123]\n",
      " [158.56725647]\n",
      " [176.24347363]\n",
      " [174.41748279]\n",
      " [167.58918635]\n",
      " [151.08883937]\n",
      " [190.57979833]]\n"
     ]
    }
   ],
   "source": [
    "y2_predict = X2@theta2\n",
    "print('h(x) = y2_predict:\\n',y2_predict)"
   ]
  },
  {
   "cell_type": "markdown",
   "metadata": {
    "tags": []
   },
   "source": [
    "### Plot loss vs. iterations"
   ]
  },
  {
   "cell_type": "code",
   "execution_count": 276,
   "metadata": {},
   "outputs": [
    {
     "data": {
      "image/png": "[encoded data removed]",
      "text/plain": [
       "<Figure size 640x480 with 1 Axes>"
      ]
     },
     "metadata": {},
     "output_type": "display_data"
    }
   ],
   "source": [
    "plt.plot(J2,'-*')\n",
    "plt.xlim(-10,200)\n",
    "plt.grid()"
   ]
  },
  {
   "cell_type": "markdown",
   "metadata": {},
   "source": [
    "#### Use R2 score to evaluate LR equation output"
   ]
  },
  {
   "cell_type": "code",
   "execution_count": 277,
   "metadata": {},
   "outputs": [
    {
     "data": {
      "text/plain": [
       "0.9890295591200727"
      ]
     },
     "execution_count": 277,
     "metadata": {},
     "output_type": "execute_result"
    }
   ],
   "source": [
    "r2_score(y2,y2_predict)"
   ]
  },
  {
   "cell_type": "code",
   "execution_count": null,
   "metadata": {},
   "outputs": [],
   "source": []
  }
 ],
 "metadata": {
  "kernelspec": {
   "display_name": "Python 3 (ipykernel)",
   "language": "python",
   "name": "python3"
  },
  "language_info": {
   "codemirror_mode": {
    "name": "ipython",
    "version": 3
   },
   "file_extension": ".py",
   "mimetype": "text/x-python",
   "name": "python",
   "nbconvert_exporter": "python",
   "pygments_lexer": "ipython3",
   "version": "3.10.8"
  }
 },
 "nbformat": 4,
 "nbformat_minor": 4
}
